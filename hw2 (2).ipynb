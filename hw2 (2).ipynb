{
 "cells": [
  {
   "cell_type": "markdown",
   "metadata": {},
   "source": [
    "# Code for Generating the CSV's Used for the Charts"
   ]
  },
  {
   "cell_type": "code",
   "execution_count": 1,
   "metadata": {},
   "outputs": [],
   "source": [
    "import numpy as np\n",
    "import pandas as pd"
   ]
  },
  {
   "cell_type": "code",
   "execution_count": 2,
   "metadata": {},
   "outputs": [
    {
     "data": {
      "text/html": [
       "<div>\n",
       "<style scoped>\n",
       "    .dataframe tbody tr th:only-of-type {\n",
       "        vertical-align: middle;\n",
       "    }\n",
       "\n",
       "    .dataframe tbody tr th {\n",
       "        vertical-align: top;\n",
       "    }\n",
       "\n",
       "    .dataframe thead th {\n",
       "        text-align: right;\n",
       "    }\n",
       "</style>\n",
       "<table border=\"1\" class=\"dataframe\">\n",
       "  <thead>\n",
       "    <tr style=\"text-align: right;\">\n",
       "      <th></th>\n",
       "      <th>Month-Year</th>\n",
       "      <th>HM-NE</th>\n",
       "      <th>CF-NE</th>\n",
       "      <th>FF-NE</th>\n",
       "      <th>HM-SW</th>\n",
       "      <th>CF-SW</th>\n",
       "      <th>FF-SW</th>\n",
       "      <th>HM-NW</th>\n",
       "      <th>CF-NW</th>\n",
       "      <th>FF-NW</th>\n",
       "      <th>HM-SE</th>\n",
       "      <th>CF-SE</th>\n",
       "      <th>FF-SE</th>\n",
       "      <th>HM-C</th>\n",
       "      <th>CF-C</th>\n",
       "      <th>FF-C</th>\n",
       "    </tr>\n",
       "  </thead>\n",
       "  <tbody>\n",
       "    <tr>\n",
       "      <td>0</td>\n",
       "      <td>Jan-16</td>\n",
       "      <td>1140955</td>\n",
       "      <td>494802</td>\n",
       "      <td>285238</td>\n",
       "      <td>1124565</td>\n",
       "      <td>468568</td>\n",
       "      <td>281141</td>\n",
       "      <td>1111618</td>\n",
       "      <td>482079</td>\n",
       "      <td>277904</td>\n",
       "      <td>1095034</td>\n",
       "      <td>456264</td>\n",
       "      <td>273758</td>\n",
       "      <td>1126476</td>\n",
       "      <td>450958</td>\n",
       "      <td>281619</td>\n",
       "    </tr>\n",
       "    <tr>\n",
       "      <td>1</td>\n",
       "      <td>Feb-16</td>\n",
       "      <td>1175529</td>\n",
       "      <td>489804</td>\n",
       "      <td>293882</td>\n",
       "      <td>1200559</td>\n",
       "      <td>480616</td>\n",
       "      <td>288369</td>\n",
       "      <td>1188037</td>\n",
       "      <td>475603</td>\n",
       "      <td>297009</td>\n",
       "      <td>1167009</td>\n",
       "      <td>486254</td>\n",
       "      <td>280311</td>\n",
       "      <td>1109076</td>\n",
       "      <td>462115</td>\n",
       "      <td>288586</td>\n",
       "    </tr>\n",
       "    <tr>\n",
       "      <td>2</td>\n",
       "      <td>Mar-16</td>\n",
       "      <td>1235995</td>\n",
       "      <td>494802</td>\n",
       "      <td>296881</td>\n",
       "      <td>1220454</td>\n",
       "      <td>508522</td>\n",
       "      <td>293148</td>\n",
       "      <td>1151657</td>\n",
       "      <td>499443</td>\n",
       "      <td>287914</td>\n",
       "      <td>1133899</td>\n",
       "      <td>472458</td>\n",
       "      <td>295045</td>\n",
       "      <td>1167894</td>\n",
       "      <td>486622</td>\n",
       "      <td>280523</td>\n",
       "    </tr>\n",
       "    <tr>\n",
       "      <td>3</td>\n",
       "      <td>Apr-16</td>\n",
       "      <td>1186592</td>\n",
       "      <td>514593</td>\n",
       "      <td>296648</td>\n",
       "      <td>1213616</td>\n",
       "      <td>485843</td>\n",
       "      <td>291505</td>\n",
       "      <td>1149180</td>\n",
       "      <td>498369</td>\n",
       "      <td>299021</td>\n",
       "      <td>1133767</td>\n",
       "      <td>491684</td>\n",
       "      <td>283441</td>\n",
       "      <td>1116560</td>\n",
       "      <td>465233</td>\n",
       "      <td>290533</td>\n",
       "    </tr>\n",
       "    <tr>\n",
       "      <td>4</td>\n",
       "      <td>May-16</td>\n",
       "      <td>1272450</td>\n",
       "      <td>530187</td>\n",
       "      <td>305637</td>\n",
       "      <td>1249686</td>\n",
       "      <td>520702</td>\n",
       "      <td>312421</td>\n",
       "      <td>1187579</td>\n",
       "      <td>494824</td>\n",
       "      <td>296894</td>\n",
       "      <td>1215080</td>\n",
       "      <td>506283</td>\n",
       "      <td>291857</td>\n",
       "      <td>1155612</td>\n",
       "      <td>481505</td>\n",
       "      <td>300695</td>\n",
       "    </tr>\n",
       "  </tbody>\n",
       "</table>\n",
       "</div>"
      ],
      "text/plain": [
       "  Month-Year    HM-NE   CF-NE   FF-NE    HM-SW   CF-SW   FF-SW    HM-NW  \\\n",
       "0     Jan-16  1140955  494802  285238  1124565  468568  281141  1111618   \n",
       "1     Feb-16  1175529  489804  293882  1200559  480616  288369  1188037   \n",
       "2     Mar-16  1235995  494802  296881  1220454  508522  293148  1151657   \n",
       "3     Apr-16  1186592  514593  296648  1213616  485843  291505  1149180   \n",
       "4     May-16  1272450  530187  305637  1249686  520702  312421  1187579   \n",
       "\n",
       "    CF-NW   FF-NW    HM-SE   CF-SE   FF-SE     HM-C    CF-C    FF-C  \n",
       "0  482079  277904  1095034  456264  273758  1126476  450958  281619  \n",
       "1  475603  297009  1167009  486254  280311  1109076  462115  288586  \n",
       "2  499443  287914  1133899  472458  295045  1167894  486622  280523  \n",
       "3  498369  299021  1133767  491684  283441  1116560  465233  290533  \n",
       "4  494824  296894  1215080  506283  291857  1155612  481505  300695  "
      ]
     },
     "execution_count": 2,
     "metadata": {},
     "output_type": "execute_result"
    }
   ],
   "source": [
    "monthly_sales = pd.read_csv(\"monthly_sales.csv\")\n",
    "monthly_sales = monthly_sales.rename(columns={'Month, Year': 'Month-Year'})\n",
    "monthly_sales.head()"
   ]
  },
  {
   "cell_type": "code",
   "execution_count": 3,
   "metadata": {},
   "outputs": [],
   "source": [
    "monthly_salesNE = monthly_sales[['Month-Year', 'HM-NE', 'CF-NE', 'FF-NE']].set_index('Month-Year').to_csv(path_or_buf='monthly_salesNE.csv')\n",
    "monthly_salesSE = monthly_sales[['Month-Year', 'HM-SE', 'CF-SE', 'FF-SE']].set_index('Month-Year').to_csv(path_or_buf='monthly_salesSE.csv')\n",
    "monthly_salesNW = monthly_sales[['Month-Year', 'HM-NW', 'CF-NW', 'FF-NW']].set_index('Month-Year').to_csv(path_or_buf='monthly_salesNW.csv')\n",
    "monthly_salesSW = monthly_sales[['Month-Year', 'HM-SW', 'CF-SW', 'FF-SW']].set_index('Month-Year').to_csv(path_or_buf='monthly_salesSW.csv')\n",
    "monthly_salesC = monthly_sales[['Month-Year', 'HM-C', 'CF-C', 'FF-C']].set_index('Month-Year').to_csv(path_or_buf='monthly_salesC.csv')"
   ]
  },
  {
   "cell_type": "code",
   "execution_count": 4,
   "metadata": {},
   "outputs": [],
   "source": [
    "daily_sales = pd.read_csv('daily_sales.csv')\n",
    "daily_by_day = daily_sales.groupby(['Unnamed: 0']).sum()"
   ]
  },
  {
   "cell_type": "code",
   "execution_count": 5,
   "metadata": {},
   "outputs": [
    {
     "name": "stderr",
     "output_type": "stream",
     "text": [
      "/Users/jillianheller/opt/anaconda3/lib/python3.7/site-packages/ipykernel_launcher.py:4: SettingWithCopyWarning: \n",
      "A value is trying to be set on a copy of a slice from a DataFrame.\n",
      "Try using .loc[row_indexer,col_indexer] = value instead\n",
      "\n",
      "See the caveats in the documentation: http://pandas.pydata.org/pandas-docs/stable/user_guide/indexing.html#returning-a-view-versus-a-copy\n",
      "  after removing the cwd from sys.path.\n"
     ]
    },
    {
     "data": {
      "text/html": [
       "<div>\n",
       "<style scoped>\n",
       "    .dataframe tbody tr th:only-of-type {\n",
       "        vertical-align: middle;\n",
       "    }\n",
       "\n",
       "    .dataframe tbody tr th {\n",
       "        vertical-align: top;\n",
       "    }\n",
       "\n",
       "    .dataframe thead th {\n",
       "        text-align: right;\n",
       "    }\n",
       "</style>\n",
       "<table border=\"1\" class=\"dataframe\">\n",
       "  <thead>\n",
       "    <tr style=\"text-align: right;\">\n",
       "      <th></th>\n",
       "      <th>Day_of_Week</th>\n",
       "      <th>All_US_HM</th>\n",
       "    </tr>\n",
       "  </thead>\n",
       "  <tbody>\n",
       "    <tr>\n",
       "      <td>0</td>\n",
       "      <td>Friday</td>\n",
       "      <td>909605</td>\n",
       "    </tr>\n",
       "    <tr>\n",
       "      <td>1</td>\n",
       "      <td>Monday</td>\n",
       "      <td>725474</td>\n",
       "    </tr>\n",
       "    <tr>\n",
       "      <td>2</td>\n",
       "      <td>Saturday</td>\n",
       "      <td>901832</td>\n",
       "    </tr>\n",
       "    <tr>\n",
       "      <td>3</td>\n",
       "      <td>Sunday</td>\n",
       "      <td>897282</td>\n",
       "    </tr>\n",
       "    <tr>\n",
       "      <td>4</td>\n",
       "      <td>Thursday</td>\n",
       "      <td>717869</td>\n",
       "    </tr>\n",
       "    <tr>\n",
       "      <td>5</td>\n",
       "      <td>Tuesday</td>\n",
       "      <td>721367</td>\n",
       "    </tr>\n",
       "    <tr>\n",
       "      <td>6</td>\n",
       "      <td>Wednesday</td>\n",
       "      <td>725219</td>\n",
       "    </tr>\n",
       "  </tbody>\n",
       "</table>\n",
       "</div>"
      ],
      "text/plain": [
       "  Day_of_Week  All_US_HM\n",
       "0      Friday     909605\n",
       "1      Monday     725474\n",
       "2    Saturday     901832\n",
       "3      Sunday     897282\n",
       "4    Thursday     717869\n",
       "5     Tuesday     721367\n",
       "6   Wednesday     725219"
      ]
     },
     "execution_count": 5,
     "metadata": {},
     "output_type": "execute_result"
    }
   ],
   "source": [
    "cols = ['HM-NE', 'HM-SE', 'HM-SW', 'HM-NW', 'HM-C']\n",
    "hm = daily_by_day[cols]\n",
    "hm_all = [hm[cols[0]][i] + hm[cols[1]][i] + hm[cols[2]][i] + hm[cols[3]][i] + hm[cols[4]][i] for i in range(7)]\n",
    "hm['All_US_' + cols[0][:2]] = hm_all\n",
    "hm2 = hm.drop(columns=cols)\n",
    "hm3 = hm2.reset_index()\n",
    "beep = hm3['Unnamed: 0']\n",
    "hm4 = hm3.drop(columns=['Unnamed: 0'])\n",
    "hm4['Day_of_Week'] = beep\n",
    "temp = hm4['All_US_HM']\n",
    "hm4 = hm4.drop(columns=['All_US_HM'])\n",
    "hm4['All_US_HM'] = temp\n",
    "hm4"
   ]
  },
  {
   "cell_type": "code",
   "execution_count": 6,
   "metadata": {},
   "outputs": [
    {
     "name": "stderr",
     "output_type": "stream",
     "text": [
      "/Users/jillianheller/opt/anaconda3/lib/python3.7/site-packages/ipykernel_launcher.py:4: SettingWithCopyWarning: \n",
      "A value is trying to be set on a copy of a slice from a DataFrame.\n",
      "Try using .loc[row_indexer,col_indexer] = value instead\n",
      "\n",
      "See the caveats in the documentation: http://pandas.pydata.org/pandas-docs/stable/user_guide/indexing.html#returning-a-view-versus-a-copy\n",
      "  after removing the cwd from sys.path.\n"
     ]
    }
   ],
   "source": [
    "cols = ['CF-NE', 'CF-SE', 'CF-SW', 'CF-NW', 'CF-C']\n",
    "hm = daily_by_day[cols]\n",
    "hm_all = [hm[cols[0]][i] + hm[cols[1]][i] + hm[cols[2]][i] + hm[cols[3]][i] + hm[cols[4]][i] for i in range(7)]\n",
    "hm['All_US_' + cols[0][:2]] = hm_all\n",
    "hm2 = hm.drop(columns=cols)\n",
    "hm3 = hm2.reset_index()\n",
    "beep = hm3['Unnamed: 0']\n",
    "hm5 = hm3.drop(columns=['Unnamed: 0'])\n",
    "hm5['Day_of_Week'] = beep\n",
    "hm7 = hm4.merge(hm5)"
   ]
  },
  {
   "cell_type": "code",
   "execution_count": 7,
   "metadata": {},
   "outputs": [
    {
     "name": "stderr",
     "output_type": "stream",
     "text": [
      "/Users/jillianheller/opt/anaconda3/lib/python3.7/site-packages/ipykernel_launcher.py:4: SettingWithCopyWarning: \n",
      "A value is trying to be set on a copy of a slice from a DataFrame.\n",
      "Try using .loc[row_indexer,col_indexer] = value instead\n",
      "\n",
      "See the caveats in the documentation: http://pandas.pydata.org/pandas-docs/stable/user_guide/indexing.html#returning-a-view-versus-a-copy\n",
      "  after removing the cwd from sys.path.\n"
     ]
    }
   ],
   "source": [
    "cols = ['FF-NE', 'FF-SE', 'FF-SW', 'FF-NW', 'FF-C']\n",
    "hm = daily_by_day[cols]\n",
    "hm_all = [hm[cols[0]][i] + hm[cols[1]][i] + hm[cols[2]][i] + hm[cols[3]][i] + hm[cols[4]][i] for i in range(7)]\n",
    "hm['All_US_' + cols[0][:2]] = hm_all\n",
    "hm2 = hm.drop(columns=cols)\n",
    "hm3 = hm2.reset_index()\n",
    "beep = hm3['Unnamed: 0']\n",
    "hm6 = hm3.drop(columns=['Unnamed: 0'])\n",
    "hm6['Day_of_Week'] = beep\n",
    "sales = hm7.merge(hm6)"
   ]
  },
  {
   "cell_type": "code",
   "execution_count": 14,
   "metadata": {},
   "outputs": [],
   "source": [
    "burgers = [int(sales['All_US_HM'][i]/4) if sales['Day_of_Week'][i] in ['Friday', 'Saturday', 'Sunday'] else int(sales['All_US_HM'][i]/3) for i in range(7)]\n",
    "chicken = [int(sales['All_US_CF'][i]/4) if sales['Day_of_Week'][i] in ['Friday', 'Saturday', 'Sunday'] else int(sales['All_US_CF'][i]/3) for i in range(7)]\n",
    "fish = [int(sales['All_US_FF'][i]/4) if sales['Day_of_Week'][i] in ['Friday', 'Saturday', 'Sunday'] else int(sales['All_US_FF'][i]/3) for i in range(7)]\n",
    "sales_by_day = pd.DataFrame({'Day_of_Week': sales['Day_of_Week'], 'Hamburgers': burgers, 'Chicken Filets': chicken, 'Fish Filets': fish})\n"
   ]
  },
  {
   "cell_type": "code",
   "execution_count": 18,
   "metadata": {},
   "outputs": [],
   "source": [
    "sales_by_day.set_index('Day_of_Week').to_csv(path_or_buf='sales_by_day.csv')"
   ]
  },
  {
   "cell_type": "code",
   "execution_count": null,
   "metadata": {},
   "outputs": [],
   "source": []
  }
 ],
 "metadata": {
  "kernelspec": {
   "display_name": "Python 3",
   "language": "python",
   "name": "python3"
  },
  "language_info": {
   "codemirror_mode": {
    "name": "ipython",
    "version": 3
   },
   "file_extension": ".py",
   "mimetype": "text/x-python",
   "name": "python",
   "nbconvert_exporter": "python",
   "pygments_lexer": "ipython3",
   "version": "3.7.4"
  }
 },
 "nbformat": 4,
 "nbformat_minor": 1
}
